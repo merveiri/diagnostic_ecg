{
 "cells": [
  {
   "cell_type": "code",
   "execution_count": 3,
   "id": "3342f14b-47f9-43c1-8943-d3ed3a759530",
   "metadata": {},
   "outputs": [
    {
     "name": "stdout",
     "output_type": "stream",
     "text": [
      "Bulunan hastalar (290): ['patient001', 'patient002', 'patient003', 'patient004', 'patient005', 'patient006', 'patient007', 'patient008', 'patient009', 'patient010', 'patient011', 'patient012', 'patient013', 'patient014', 'patient015', 'patient016', 'patient017', 'patient018', 'patient019', 'patient020', 'patient021', 'patient022', 'patient023', 'patient024', 'patient025', 'patient026', 'patient027', 'patient028', 'patient029', 'patient030', 'patient031', 'patient032', 'patient033', 'patient034', 'patient035', 'patient036', 'patient037', 'patient038', 'patient039', 'patient040', 'patient041', 'patient042', 'patient043', 'patient044', 'patient045', 'patient046', 'patient047', 'patient048', 'patient049', 'patient050', 'patient051', 'patient052', 'patient053', 'patient054', 'patient055', 'patient056', 'patient057', 'patient058', 'patient059', 'patient060', 'patient061', 'patient062', 'patient063', 'patient064', 'patient065', 'patient066', 'patient067', 'patient068', 'patient069', 'patient070', 'patient071', 'patient072', 'patient073', 'patient074', 'patient075', 'patient076', 'patient077', 'patient078', 'patient079', 'patient080', 'patient081', 'patient082', 'patient083', 'patient084', 'patient085', 'patient086', 'patient087', 'patient088', 'patient089', 'patient090', 'patient091', 'patient092', 'patient093', 'patient094', 'patient095', 'patient096', 'patient097', 'patient098', 'patient099', 'patient100', 'patient101', 'patient102', 'patient103', 'patient104', 'patient105', 'patient106', 'patient107', 'patient108', 'patient109', 'patient110', 'patient111', 'patient112', 'patient113', 'patient114', 'patient115', 'patient116', 'patient117', 'patient118', 'patient119', 'patient120', 'patient121', 'patient122', 'patient123', 'patient125', 'patient126', 'patient127', 'patient128', 'patient129', 'patient130', 'patient131', 'patient133', 'patient135', 'patient136', 'patient137', 'patient138', 'patient139', 'patient140', 'patient141', 'patient142', 'patient143', 'patient144', 'patient145', 'patient146', 'patient147', 'patient148', 'patient149', 'patient150', 'patient151', 'patient152', 'patient153', 'patient154', 'patient155', 'patient156', 'patient157', 'patient158', 'patient159', 'patient160', 'patient162', 'patient163', 'patient164', 'patient165', 'patient166', 'patient167', 'patient168', 'patient169', 'patient170', 'patient171', 'patient172', 'patient173', 'patient174', 'patient175', 'patient176', 'patient177', 'patient178', 'patient179', 'patient180', 'patient181', 'patient182', 'patient183', 'patient184', 'patient185', 'patient186', 'patient187', 'patient188', 'patient189', 'patient190', 'patient191', 'patient192', 'patient193', 'patient194', 'patient195', 'patient196', 'patient197', 'patient198', 'patient199', 'patient200', 'patient201', 'patient202', 'patient203', 'patient204', 'patient205', 'patient206', 'patient207', 'patient208', 'patient209', 'patient210', 'patient211', 'patient212', 'patient213', 'patient214', 'patient215', 'patient216', 'patient217', 'patient218', 'patient219', 'patient220', 'patient221', 'patient222', 'patient223', 'patient224', 'patient225', 'patient226', 'patient227', 'patient228', 'patient229', 'patient230', 'patient231', 'patient232', 'patient233', 'patient234', 'patient235', 'patient236', 'patient237', 'patient238', 'patient239', 'patient240', 'patient241', 'patient242', 'patient243', 'patient244', 'patient245', 'patient246', 'patient247', 'patient248', 'patient249', 'patient250', 'patient251', 'patient252', 'patient253', 'patient254', 'patient255', 'patient256', 'patient257', 'patient258', 'patient259', 'patient260', 'patient261', 'patient262', 'patient263', 'patient264', 'patient265', 'patient266', 'patient267', 'patient268', 'patient269', 'patient270', 'patient271', 'patient272', 'patient273', 'patient274', 'patient275', 'patient276', 'patient277', 'patient278', 'patient279', 'patient280', 'patient281', 'patient282', 'patient283', 'patient284', 'patient285', 'patient286', 'patient287', 'patient288', 'patient289', 'patient290', 'patient291', 'patient292', 'patient293', 'patient294']\n"
     ]
    }
   ],
   "source": [
    "import zipfile, os\n",
    "\n",
    "# ZIP dosyanızı proje klasörüne koyduğunuzdan emin olun\n",
    "ZIP_PATH = \"my_ecg_data.zip\"\n",
    "DATA_DIR = \"data/my_ecg_data\"\n",
    "\n",
    "# 1. ZIP’i aç\n",
    "with zipfile.ZipFile(ZIP_PATH, \"r\") as z:\n",
    "    z.extractall(\"data\")\n",
    "\n",
    "# 2. Dosya/hasta dizinlerini listele\n",
    "patients = sorted(d for d in os.listdir(DATA_DIR) if d.startswith(\"patient\"))\n",
    "print(f\"Bulunan hastalar ({len(patients)}):\", patients)"
   ]
  },
  {
   "cell_type": "code",
   "execution_count": null,
   "id": "06fea118-bdd7-41f3-9659-ab4abe7160ae",
   "metadata": {},
   "outputs": [],
   "source": [
    "# ### 2. ECG SİNYALLERİNİ OKUMA ###\n",
    "import wfdb\n",
    "\n",
    "# Kaydı okumak için helper fonksiyon\n",
    "def read_patient_records(patient_folder):\n",
    "    path = os.path.join(DATA_DIR, patient_folder)\n",
    "    # .hea dosyalarından record isimlerini çıkar\n",
    "    recs = [f[:-4] for f in os.listdir(path) if f.endswith(\".hea\")]\n",
    "    data = {}\n",
    "    for rec in recs:\n",
    "        rec_path = os.path.join(path, rec)\n",
    "        wd = wfdb.rdrecord(rec_path)\n",
    "        data[rec] = {\n",
    "            \"signal\":   wd.p_signal,    # (n_samples, n_leads)\n",
    "            \"fs\":       wd.fs,\n",
    "            \"channels\": wd.sig_name\n",
    "        }\n",
    "    return data\n",
    "\n",
    "# Tüm hastalar için oku\n",
    "all_data = {pt: read_patient_records(pt) for pt in patients}\n",
    "print(\"Patient001 örnek kayıtlar:\", list(all_data[\"patient001\"].keys()))"
   ]
  },
  {
   "cell_type": "code",
   "execution_count": null,
   "id": "5b485173-1153-45e6-a85d-c2d4aee8ec96",
   "metadata": {},
   "outputs": [],
   "source": [
    "# ### 3. SİNYAL ÖN İŞLEME ###\n",
    "import numpy as np\n",
    "from scipy.signal import butter, filtfilt\n",
    "\n",
    "# Band-pass filter (örn. 0.5–40 Hz)\n",
    "def bandpass_filter(x, fs, low=0.5, high=40, order=4):\n",
    "    nyq = fs/2\n",
    "    b, a = butter(order, [low/nyq, high/nyq], btype='band')\n",
    "    return filtfilt(b, a, x)\n",
    "\n",
    "# Normalizasyon (z-score)\n",
    "def normalize(x):\n",
    "    return (x - np.mean(x)) / np.std(x)\n",
    "\n",
    "# Örnek: tüm kayıtların ilk kanalını filtrele ve normalize et\n",
    "preprocessed = {}\n",
    "for pt, recs in all_data.items():\n",
    "    preprocessed[pt] = {}\n",
    "    for rec, d in recs.items():\n",
    "        sig0 = d[\"signal\"][:,0]         # lead-0\n",
    "        f1   = bandpass_filter(sig0, d[\"fs\"])\n",
    "        nz   = normalize(f1)\n",
    "        preprocessed[pt][rec] = {\"sig\": nz, \"fs\": d[\"fs\"]}\n"
   ]
  },
  {
   "cell_type": "code",
   "execution_count": null,
   "id": "a670bd37-a3d1-4d1b-9ce9-4bce98db00db",
   "metadata": {},
   "outputs": [],
   "source": [
    "# ### 4. ÖZNİTELİK ÇIKARMA ###\n",
    "import pandas as pd\n",
    "import numpy as np\n",
    "from scipy.stats import skew, kurtosis\n",
    "from scipy.signal import welch\n",
    "\n",
    "def extract_features(sig, fs):\n",
    "    # zaman-domain\n",
    "    mean_v = np.mean(sig)\n",
    "    std_v  = np.std(sig)\n",
    "    skew_v = skew(sig)\n",
    "    kurt_v = kurtosis(sig)\n",
    "    # frekans-domain\n",
    "    f, Pxx = welch(sig, fs, nperseg=fs*2)\n",
    "    # toplam güç ve bantlar\n",
    "    total_power = np.trapezoid(Pxx, f)\n",
    "    lf = np.trapezoid(Pxx[(f>=0.04)&(f<0.15)], f[(f>=0.04)&(f<0.15)])\n",
    "    hf = np.trapezoid(Pxx[(f>=0.15)&(f<0.4)], f[(f>=0.15)&(f<0.4)])\n",
    "    return [mean_v, std_v, skew_v, kurt_v, lf/total_power, hf/total_power]\n",
    "\n",
    "# tüm hasta-kayıtlara uygula\n",
    "features, labels = [], []\n",
    "for pt, recs in preprocessed.items():\n",
    "    # pt == \"CONTROLS\" içindekilere 0, diğer patientXXX'lere 1\n",
    "    lbl = 0 if pt.upper()==\"CONTROLS\" else 1\n",
    "    for rec, d in recs.items():\n",
    "        feats = extract_features(d[\"sig\"], d[\"fs\"])\n",
    "        features.append(feats)\n",
    "        labels.append(lbl)\n",
    "\n",
    "df = pd.DataFrame(features, columns=[\n",
    "    \"mean\", \"std\", \"skew\", \"kurtosis\", \"LF_ratio\", \"HF_ratio\"\n",
    "])\n",
    "df[\"label\"] = labels\n",
    "\n",
    "df.head()\n"
   ]
  },
  {
   "cell_type": "code",
   "execution_count": null,
   "id": "f78b78b6-ee03-490f-aae6-1f5df25ecf15",
   "metadata": {},
   "outputs": [],
   "source": [
    "# ### 5. MODEL OLUŞTURMA & EĞİTİM ###\n",
    "from sklearn.model_selection import train_test_split\n",
    "from sklearn.ensemble import RandomForestClassifier\n",
    "\n",
    "X = df.drop(\"label\", axis=1)\n",
    "y = df[\"label\"]\n",
    "\n",
    "X_train, X_test, y_train, y_test = train_test_split(\n",
    "    X, y, test_size=0.3, random_state=42, stratify=y\n",
    ")\n",
    "\n",
    "clf = RandomForestClassifier(n_estimators=100, random_state=42)\n",
    "clf.fit(X_train, y_train)\n"
   ]
  },
  {
   "cell_type": "code",
   "execution_count": null,
   "id": "1c96a745-c2df-4078-86b2-f2534881812b",
   "metadata": {},
   "outputs": [],
   "source": [
    "from sklearn.metrics import (\n",
    "    accuracy_score, precision_score,\n",
    "    recall_score, f1_score, confusion_matrix\n",
    ")\n",
    "\n",
    "y_pred = clf.predict(X_test)\n",
    "\n",
    "print(\"Accuracy : \", accuracy_score(y_test, y_pred))\n",
    "print(\"Precision:\", precision_score(y_test, y_pred))\n",
    "print(\"Recall   :\", recall_score(y_test, y_pred))\n",
    "print(\"F1-score :\", f1_score(y_test, y_pred))\n",
    "print(\"Confusion Matrix:\\n\",\n",
    "      confusion_matrix(y_test, y_pred, labels=[0,1]))"
   ]
  },
  {
   "cell_type": "code",
   "execution_count": null,
   "id": "d87954b8-6af8-4575-be81-98a0bcca2635",
   "metadata": {},
   "outputs": [],
   "source": [
    "# ### Görselleştirme ###\n",
    "import numpy as np\n",
    "import matplotlib.pyplot as plt\n",
    "\n",
    "# 1) Görselleştirmek istediğiniz hasta ve kaydı seçin\n",
    "pt  = \"patient001\"\n",
    "rec = \"s0010_re\"\n",
    "\n",
    "# 2) Ham (raw) sinyali al\n",
    "raw_sig = all_data[pt][rec][\"signal\"][:, 0]  # 1. kanal (lead-0)\n",
    "fs      = all_data[pt][rec][\"fs\"]\n",
    "t       = np.arange(len(raw_sig)) / fs\n",
    "\n",
    "# 3) Ön‐işlenmiş sinyali al\n",
    "proc_sig = preprocessed[pt][rec][\"sig\"]\n",
    "\n",
    "# 4) Çizimi yap\n",
    "plt.figure(figsize=(12, 3))\n",
    "plt.plot(t, raw_sig,  label=\"Ham Sinyal\", alpha=0.5)\n",
    "plt.plot(t, proc_sig, label=\"Ön‐İşlenmiş Sinyal\", linewidth=1)\n",
    "plt.xlabel(\"Time (s)\")\n",
    "plt.ylabel(\"Amplitude\")\n",
    "plt.title(f\"{pt} — {rec} (Lead 0)\")\n",
    "plt.legend(loc=\"upper right\")\n",
    "plt.tight_layout()\n",
    "plt.show()\n"
   ]
  },
  {
   "cell_type": "code",
   "execution_count": null,
   "id": "d4a30b32-843b-4d7b-a454-28d801ab9e93",
   "metadata": {},
   "outputs": [],
   "source": []
  },
  {
   "cell_type": "code",
   "execution_count": null,
   "id": "b22a4f8c-88dd-4f70-ab99-eab814adbb4b",
   "metadata": {},
   "outputs": [],
   "source": []
  }
 ],
 "metadata": {
  "kernelspec": {
   "display_name": "Python 3 (ipykernel)",
   "language": "python",
   "name": "python3"
  },
  "language_info": {
   "codemirror_mode": {
    "name": "ipython",
    "version": 3
   },
   "file_extension": ".py",
   "mimetype": "text/x-python",
   "name": "python",
   "nbconvert_exporter": "python",
   "pygments_lexer": "ipython3",
   "version": "3.13.3"
  }
 },
 "nbformat": 4,
 "nbformat_minor": 5
}
